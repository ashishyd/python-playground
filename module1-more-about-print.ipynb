{
 "cells": [
  {
   "cell_type": "code",
   "execution_count": 1,
   "id": "13ec748d",
   "metadata": {},
   "outputs": [
    {
     "name": "stdout",
     "output_type": "stream",
     "text": [
      "I'm studying Python\n"
     ]
    }
   ],
   "source": [
    "print(\"I'm studying Python\")"
   ]
  },
  {
   "cell_type": "code",
   "execution_count": 2,
   "id": "5a67b9ca",
   "metadata": {},
   "outputs": [
    {
     "name": "stdout",
     "output_type": "stream",
     "text": [
      "I'm studying Python\n"
     ]
    }
   ],
   "source": [
    "print('I\\'m studying Python')"
   ]
  },
  {
   "cell_type": "code",
   "execution_count": null,
   "id": "447f8bb5",
   "metadata": {},
   "outputs": [],
   "source": [
    "print('I\\'m studying Python') print('and having fun!\n",
    "')"
   ]
  }
 ],
 "metadata": {
  "kernelspec": {
   "display_name": "Python 3 (ipykernel)",
   "language": "python",
   "name": "python3"
  },
  "language_info": {
   "codemirror_mode": {
    "name": "ipython",
    "version": 3
   },
   "file_extension": ".py",
   "mimetype": "text/x-python",
   "name": "python",
   "nbconvert_exporter": "python",
   "pygments_lexer": "ipython3",
   "version": "3.9.13"
  }
 },
 "nbformat": 4,
 "nbformat_minor": 5
}
