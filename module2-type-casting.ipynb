{
 "cells": [
  {
   "cell_type": "code",
   "execution_count": 1,
   "id": "c5a05673",
   "metadata": {},
   "outputs": [
    {
     "name": "stdout",
     "output_type": "stream",
     "text": [
      "Height converter: enter your height in cm: 182\n",
      "Your height in feet is: 5.971128608923885\n"
     ]
    }
   ],
   "source": [
    "height_cm = input('Height converter: enter your height in cm: ')\n",
    "float_height_cm = float(height_cm)\n",
    "print('Your height in feet is:', float_height_cm / 30.48)"
   ]
  },
  {
   "cell_type": "code",
   "execution_count": 2,
   "id": "ae1025c6",
   "metadata": {},
   "outputs": [
    {
     "name": "stdout",
     "output_type": "stream",
     "text": [
      "Height converter: enter your height in cm: 171\n",
      "Your height in feet is: 5.610236220472441\n"
     ]
    }
   ],
   "source": [
    "float_height_cm = float(input('Height converter: enter your height in cm: '))\n",
    "print('Your height in feet is:', float_height_cm / 30.48)"
   ]
  },
  {
   "cell_type": "code",
   "execution_count": 3,
   "id": "3ab137aa",
   "metadata": {},
   "outputs": [
    {
     "name": "stdout",
     "output_type": "stream",
     "text": [
      "What year were you born?1986\n",
      "In 2100, you will be 114 years old, provided you live this long!\n"
     ]
    }
   ],
   "source": [
    "year_born = int(input('What year were you born?'))\n",
    "print('In 2100, you will be', 2100 - year_born, 'years old, provided you live this long!')"
   ]
  },
  {
   "cell_type": "code",
   "execution_count": null,
   "id": "df157724",
   "metadata": {},
   "outputs": [],
   "source": []
  }
 ],
 "metadata": {
  "kernelspec": {
   "display_name": "Python 3 (ipykernel)",
   "language": "python",
   "name": "python3"
  },
  "language_info": {
   "codemirror_mode": {
    "name": "ipython",
    "version": 3
   },
   "file_extension": ".py",
   "mimetype": "text/x-python",
   "name": "python",
   "nbconvert_exporter": "python",
   "pygments_lexer": "ipython3",
   "version": "3.9.13"
  }
 },
 "nbformat": 4,
 "nbformat_minor": 5
}
