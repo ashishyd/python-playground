{
 "cells": [
  {
   "cell_type": "code",
   "execution_count": 1,
   "id": "1b4ecbb2",
   "metadata": {},
   "outputs": [],
   "source": [
    "# functions\n",
    "\n",
    "def greet():\n",
    "    print('Hello!')"
   ]
  },
  {
   "cell_type": "code",
   "execution_count": 2,
   "id": "4a3f6f77",
   "metadata": {},
   "outputs": [
    {
     "name": "stdout",
     "output_type": "stream",
     "text": [
      "Hello!\n"
     ]
    }
   ],
   "source": [
    "greet()"
   ]
  },
  {
   "cell_type": "code",
   "execution_count": 4,
   "id": "894f66cc",
   "metadata": {},
   "outputs": [
    {
     "name": "stdout",
     "output_type": "stream",
     "text": [
      "7.24\n"
     ]
    }
   ],
   "source": [
    "def get_average(input_numbers):\n",
    "    sum = 0.0\n",
    "    for number in input_numbers:\n",
    "        sum += number\n",
    "\n",
    "    average = sum / len(input_numbers)\n",
    "    print(average)\n",
    "\n",
    "input_numbers = [5.0, 3.5, 7.8, 9.9, 10.0]\n",
    "get_average(input_numbers)"
   ]
  },
  {
   "cell_type": "code",
   "execution_count": 7,
   "id": "d8f8441a",
   "metadata": {},
   "outputs": [
    {
     "name": "stdout",
     "output_type": "stream",
     "text": [
      "Number of e is 2\n",
      "Number of e is 2\n"
     ]
    }
   ],
   "source": [
    "def print_letter_count(text, letter):\n",
    "    counter = 0\n",
    "    for char in text:\n",
    "        if char == letter:\n",
    "            counter += 1\n",
    "    print('Number of', letter, 'is', counter)\n",
    "print_letter_count('welcome', 'e')\n",
    "print_letter_count(text='welcome', letter='e')"
   ]
  },
  {
   "cell_type": "code",
   "execution_count": 8,
   "id": "d71286e1",
   "metadata": {},
   "outputs": [
    {
     "name": "stdout",
     "output_type": "stream",
     "text": [
      "Number of a is 0\n",
      "Number of a is 0\n"
     ]
    }
   ],
   "source": [
    "# default value for parameter\n",
    "def print_letter_count(text, letter = 'a'):\n",
    "    counter = 0\n",
    "    for char in text:\n",
    "        if char == letter:\n",
    "            counter += 1\n",
    "    print('Number of', letter, 'is', counter)\n",
    "print_letter_count('welcome')\n",
    "print_letter_count(text='welcome')"
   ]
  },
  {
   "cell_type": "code",
   "execution_count": 9,
   "id": "84c25bd1",
   "metadata": {},
   "outputs": [
    {
     "name": "stdout",
     "output_type": "stream",
     "text": [
      "original\n",
      "New\n",
      "original\n"
     ]
    }
   ],
   "source": [
    "# name scope (shadowing)\n",
    "\n",
    "def show_truth():\n",
    "    mystery_var = 'New'\n",
    "    print(mystery_var)\n",
    "\n",
    "mystery_var = 'original'\n",
    "print(mystery_var)\n",
    "show_truth()\n",
    "print(mystery_var)"
   ]
  },
  {
   "cell_type": "code",
   "execution_count": 10,
   "id": "908d19c1",
   "metadata": {},
   "outputs": [
    {
     "name": "stdout",
     "output_type": "stream",
     "text": [
      "original\n",
      "New\n",
      "New\n"
     ]
    }
   ],
   "source": [
    "def show_truth():\n",
    "    global mystery_var\n",
    "    mystery_var = 'New'\n",
    "    print(mystery_var)\n",
    "\n",
    "mystery_var = 'original'\n",
    "print(mystery_var)\n",
    "show_truth()\n",
    "print(mystery_var)"
   ]
  },
  {
   "cell_type": "code",
   "execution_count": 11,
   "id": "0e763e49",
   "metadata": {},
   "outputs": [
    {
     "name": "stdout",
     "output_type": "stream",
     "text": [
      "yes\n",
      "it does\n"
     ]
    }
   ],
   "source": [
    "# NONE \n",
    "x = None\n",
    "if x is None:\n",
    "    print('yes')\n",
    "if x == None:\n",
    "    print('it does')"
   ]
  },
  {
   "cell_type": "code",
   "execution_count": 12,
   "id": "9cb28052",
   "metadata": {},
   "outputs": [
    {
     "name": "stdout",
     "output_type": "stream",
     "text": [
      "The average is: 7.24\n"
     ]
    }
   ],
   "source": [
    "# return value\n",
    "\n",
    "def get_average(input_numbers):\n",
    "    sum = 0.0\n",
    "    for number in input_numbers:\n",
    "        sum += number\n",
    "\n",
    "    average = sum / len(input_numbers)\n",
    "    return average\n",
    "\n",
    "print('The average is:', get_average([5.0, 3.5, 7.8, 9.9, 10.0]))"
   ]
  },
  {
   "cell_type": "code",
   "execution_count": 13,
   "id": "bcca9ed3",
   "metadata": {},
   "outputs": [
    {
     "name": "stdout",
     "output_type": "stream",
     "text": [
      "720\n"
     ]
    }
   ],
   "source": [
    "# recursion (function calls itself)\n",
    "\n",
    "# factorial\n",
    "# 3! = 1 * 2 * 3 = 6\n",
    "\n",
    "def get_factorial(number):\n",
    "    factorial = 1\n",
    "    for x in range(1, number + 1):\n",
    "        factorial *= x\n",
    "    return factorial\n",
    "\n",
    "print(get_factorial(6))"
   ]
  },
  {
   "cell_type": "code",
   "execution_count": 14,
   "id": "e51cc23c",
   "metadata": {},
   "outputs": [
    {
     "name": "stdout",
     "output_type": "stream",
     "text": [
      "720\n"
     ]
    }
   ],
   "source": [
    "def get_factorial_recursice(number):\n",
    "    if number <= 1:\n",
    "        return 1\n",
    "    return number * get_factorial_recursice(number - 1)\n",
    "\n",
    "print(get_factorial_recursice(6))"
   ]
  },
  {
   "cell_type": "code",
   "execution_count": 15,
   "id": "d99e7be2",
   "metadata": {},
   "outputs": [
    {
     "name": "stdout",
     "output_type": "stream",
     "text": [
      "1\n",
      "2\n",
      "3\n"
     ]
    }
   ],
   "source": [
    "# generators\n",
    "\n",
    "def get_number():\n",
    "    for i in range(1, 4):\n",
    "        yield i\n",
    "        \n",
    "generator = get_number()\n",
    "print(next(generator))\n",
    "print(next(generator))\n",
    "print(next(generator))"
   ]
  },
  {
   "cell_type": "code",
   "execution_count": 16,
   "id": "f1a9962f",
   "metadata": {},
   "outputs": [
    {
     "name": "stdout",
     "output_type": "stream",
     "text": [
      "1\n",
      "2\n",
      "3\n"
     ]
    }
   ],
   "source": [
    "for x in get_number():\n",
    "    print(x)"
   ]
  },
  {
   "cell_type": "code",
   "execution_count": 17,
   "id": "63309396",
   "metadata": {},
   "outputs": [
    {
     "name": "stdout",
     "output_type": "stream",
     "text": [
      "[1, 2, 3]\n"
     ]
    }
   ],
   "source": [
    "numbers = list(get_number())\n",
    "print(numbers)"
   ]
  },
  {
   "cell_type": "code",
   "execution_count": 20,
   "id": "895f3967",
   "metadata": {},
   "outputs": [
    {
     "name": "stdout",
     "output_type": "stream",
     "text": [
      "Enter an integer: a\n",
      "You did not provide a number\n"
     ]
    }
   ],
   "source": [
    "# exception\n",
    "\n",
    "try:\n",
    "    value = int(input('Enter an integer: '))\n",
    "    print('The inverse of', value, 'is', 1/value)\n",
    "except ZeroDivisionError:\n",
    "    print('You provided zero, which is not a valid value')\n",
    "except ValueError:\n",
    "    print('You did not provide a number')\n",
    "except:\n",
    "    print('Something strange happened here')"
   ]
  },
  {
   "cell_type": "code",
   "execution_count": 21,
   "id": "ffa45ac6",
   "metadata": {},
   "outputs": [],
   "source": [
    "# assert, user for document or debug\n",
    "\n",
    "def calculate_inverse(number):\n",
    "    assert(number != 0), 'Got 0 as number!'\n",
    "    return 1/number"
   ]
  },
  {
   "cell_type": "code",
   "execution_count": 22,
   "id": "3df80e5d",
   "metadata": {},
   "outputs": [
    {
     "data": {
      "text/plain": [
       "0.2"
      ]
     },
     "execution_count": 22,
     "metadata": {},
     "output_type": "execute_result"
    }
   ],
   "source": [
    "calculate_inverse(5)"
   ]
  },
  {
   "cell_type": "code",
   "execution_count": 23,
   "id": "c4775d15",
   "metadata": {},
   "outputs": [
    {
     "ename": "AssertionError",
     "evalue": "Got 0 as number!",
     "output_type": "error",
     "traceback": [
      "\u001b[0;31m---------------------------------------------------------------------------\u001b[0m",
      "\u001b[0;31mAssertionError\u001b[0m                            Traceback (most recent call last)",
      "\u001b[0;32m/var/folders/tj/c426c28x2tj_qszsft0l5r9c0000gn/T/ipykernel_63415/3731917675.py\u001b[0m in \u001b[0;36m<module>\u001b[0;34m\u001b[0m\n\u001b[0;32m----> 1\u001b[0;31m \u001b[0mcalculate_inverse\u001b[0m\u001b[0;34m(\u001b[0m\u001b[0;36m0\u001b[0m\u001b[0;34m)\u001b[0m\u001b[0;34m\u001b[0m\u001b[0;34m\u001b[0m\u001b[0m\n\u001b[0m",
      "\u001b[0;32m/var/folders/tj/c426c28x2tj_qszsft0l5r9c0000gn/T/ipykernel_63415/270499065.py\u001b[0m in \u001b[0;36mcalculate_inverse\u001b[0;34m(number)\u001b[0m\n\u001b[1;32m      2\u001b[0m \u001b[0;34m\u001b[0m\u001b[0m\n\u001b[1;32m      3\u001b[0m \u001b[0;32mdef\u001b[0m \u001b[0mcalculate_inverse\u001b[0m\u001b[0;34m(\u001b[0m\u001b[0mnumber\u001b[0m\u001b[0;34m)\u001b[0m\u001b[0;34m:\u001b[0m\u001b[0;34m\u001b[0m\u001b[0;34m\u001b[0m\u001b[0m\n\u001b[0;32m----> 4\u001b[0;31m     \u001b[0;32massert\u001b[0m\u001b[0;34m(\u001b[0m\u001b[0mnumber\u001b[0m \u001b[0;34m!=\u001b[0m \u001b[0;36m0\u001b[0m\u001b[0;34m)\u001b[0m\u001b[0;34m,\u001b[0m \u001b[0;34m'Got 0 as number!'\u001b[0m\u001b[0;34m\u001b[0m\u001b[0;34m\u001b[0m\u001b[0m\n\u001b[0m\u001b[1;32m      5\u001b[0m     \u001b[0;32mreturn\u001b[0m \u001b[0;36m1\u001b[0m\u001b[0;34m/\u001b[0m\u001b[0mnumber\u001b[0m\u001b[0;34m\u001b[0m\u001b[0;34m\u001b[0m\u001b[0m\n",
      "\u001b[0;31mAssertionError\u001b[0m: Got 0 as number!"
     ]
    }
   ],
   "source": [
    "calculate_inverse(0)"
   ]
  },
  {
   "cell_type": "code",
   "execution_count": 24,
   "id": "a28b6408",
   "metadata": {},
   "outputs": [
    {
     "name": "stdout",
     "output_type": "stream",
     "text": [
      "65\n"
     ]
    }
   ],
   "source": [
    "def show():\n",
    "    print(val + 1, end='')\n",
    " \n",
    "val = 5\n",
    "show()\n",
    "print(val)"
   ]
  },
  {
   "cell_type": "code",
   "execution_count": 25,
   "id": "b44315f6",
   "metadata": {},
   "outputs": [
    {
     "name": "stdout",
     "output_type": "stream",
     "text": [
      "0-1-0-1-0-1-0-1-0-1-"
     ]
    }
   ],
   "source": [
    "def numerical():\n",
    "  for i in range(10):\n",
    "    yield i%2\n",
    " \n",
    "for x in numerical():\n",
    "  print(x, end='-')"
   ]
  },
  {
   "cell_type": "code",
   "execution_count": 27,
   "id": "c05c8aaa",
   "metadata": {},
   "outputs": [
    {
     "data": {
      "text/plain": [
       "1.0"
      ]
     },
     "execution_count": 27,
     "metadata": {},
     "output_type": "execute_result"
    }
   ],
   "source": [
    "def my_fun(x):\n",
    "  try:\n",
    "    return x / x\n",
    "  except:\n",
    "    print('ex')\n",
    " \n",
    "my_fun(1)\n",
    "my_fun(0)"
   ]
  },
  {
   "cell_type": "code",
   "execution_count": 29,
   "id": "141c7846",
   "metadata": {},
   "outputs": [
    {
     "name": "stdout",
     "output_type": "stream",
     "text": [
      "{'one': 1, 'two': 5, 'three': 3, 'four': 8}\n"
     ]
    }
   ],
   "source": [
    "dict1 = {'one': 1, 'two': 2, 'three': 3}\n",
    "dict2 = {'one': 1, 'two': 5, 'four': 8}\n",
    "dict3 = dict(dict1)\n",
    "dict4 = dict(dict2)\n",
    "dict3.update(dict2)\n",
    "dict4.update(dict1)\n",
    "print(dict3)"
   ]
  },
  {
   "cell_type": "code",
   "execution_count": 31,
   "id": "9ef24871",
   "metadata": {},
   "outputs": [
    {
     "name": "stdout",
     "output_type": "stream",
     "text": [
      "[1, 2]\n",
      "[1, 2, 3]\n"
     ]
    }
   ],
   "source": [
    "list1 = [1, 2, 3]\n",
    "list2 = list1[-3:-1]\n",
    "print(list2)\n",
    "print(list1)"
   ]
  },
  {
   "cell_type": "code",
   "execution_count": 32,
   "id": "3299bfa4",
   "metadata": {},
   "outputs": [
    {
     "name": "stdout",
     "output_type": "stream",
     "text": [
      "3\n"
     ]
    }
   ],
   "source": [
    "def func(x):\n",
    "        if x:\n",
    "                print('1')\n",
    "        elif x is False:\n",
    "                print('2')\n",
    "        else:\n",
    "                print('3')\n",
    " \n",
    "func(None)"
   ]
  },
  {
   "cell_type": "code",
   "execution_count": 33,
   "id": "ce1a7717",
   "metadata": {},
   "outputs": [
    {
     "name": "stdout",
     "output_type": "stream",
     "text": [
      "3\n"
     ]
    }
   ],
   "source": [
    "x = 4\n",
    "y = 5\n",
    "z = 3\n",
    "print(x == y or z)"
   ]
  },
  {
   "cell_type": "code",
   "execution_count": 34,
   "id": "f996054e",
   "metadata": {},
   "outputs": [
    {
     "name": "stdout",
     "output_type": "stream",
     "text": [
      "['Surprise!']\n",
      "['New Surprise!']\n",
      "['Surprise!']\n"
     ]
    }
   ],
   "source": [
    "def show_truth():\n",
    "    mysterious_var = ['New Surprise!']\n",
    "    print(mysterious_var)\n",
    " \n",
    "mysterious_var = ['Surprise!']\n",
    "print(mysterious_var)\n",
    "show_truth()\n",
    "print(mysterious_var)"
   ]
  },
  {
   "cell_type": "code",
   "execution_count": 35,
   "id": "ca4f11e2",
   "metadata": {},
   "outputs": [
    {
     "name": "stdout",
     "output_type": "stream",
     "text": [
      "give a number: 0\n",
      "4\n"
     ]
    }
   ],
   "source": [
    "num = int(input('give a number: '))\n",
    "if num > 0:\n",
    "    if num < 5:\n",
    "        print('1')\n",
    "    else:\n",
    "        print('2')\n",
    "else:\n",
    "        if num < -1:\n",
    "                print('3')\n",
    "        else:\n",
    "                print('4')"
   ]
  },
  {
   "cell_type": "code",
   "execution_count": null,
   "id": "ef97902a",
   "metadata": {},
   "outputs": [],
   "source": []
  }
 ],
 "metadata": {
  "kernelspec": {
   "display_name": "Python 3 (ipykernel)",
   "language": "python",
   "name": "python3"
  },
  "language_info": {
   "codemirror_mode": {
    "name": "ipython",
    "version": 3
   },
   "file_extension": ".py",
   "mimetype": "text/x-python",
   "name": "python",
   "nbconvert_exporter": "python",
   "pygments_lexer": "ipython3",
   "version": "3.9.13"
  }
 },
 "nbformat": 4,
 "nbformat_minor": 5
}
