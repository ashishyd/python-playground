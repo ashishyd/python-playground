{
 "cells": [
  {
   "cell_type": "code",
   "execution_count": null,
   "id": "da46466d",
   "metadata": {},
   "outputs": [],
   "source": [
    "# collections\n",
    "\n",
    "# lists\n",
    "# tuples\n",
    "# dictionaries"
   ]
  },
  {
   "cell_type": "code",
   "execution_count": null,
   "id": "f43b6fed",
   "metadata": {},
   "outputs": [],
   "source": [
    "empty_list = []"
   ]
  },
  {
   "cell_type": "code",
   "execution_count": 1,
   "id": "2d9f7eeb",
   "metadata": {},
   "outputs": [
    {
     "name": "stdout",
     "output_type": "stream",
     "text": [
      "['New York', 'Los Angeles', 'Chicago', 'Houston', 'Phoenix']\n"
     ]
    }
   ],
   "source": [
    "top_cities = ['New York', 'Los Angeles', 'Chicago', 'Houston', 'Phoenix']\n",
    "print(top_cities)"
   ]
  },
  {
   "cell_type": "code",
   "execution_count": 2,
   "id": "47fc43ea",
   "metadata": {},
   "outputs": [
    {
     "data": {
      "text/plain": [
       "'New York'"
      ]
     },
     "execution_count": 2,
     "metadata": {},
     "output_type": "execute_result"
    }
   ],
   "source": [
    "top_cities[0]"
   ]
  },
  {
   "cell_type": "code",
   "execution_count": 3,
   "id": "6916798d",
   "metadata": {},
   "outputs": [
    {
     "data": {
      "text/plain": [
       "'Phoenix'"
      ]
     },
     "execution_count": 3,
     "metadata": {},
     "output_type": "execute_result"
    }
   ],
   "source": [
    "top_cities[-1]"
   ]
  },
  {
   "cell_type": "code",
   "execution_count": 4,
   "id": "07e851ce",
   "metadata": {},
   "outputs": [
    {
     "data": {
      "text/plain": [
       "['New York', 'Los Angeles']"
      ]
     },
     "execution_count": 4,
     "metadata": {},
     "output_type": "execute_result"
    }
   ],
   "source": [
    "# slicing\n",
    "top_cities[0:2]"
   ]
  },
  {
   "cell_type": "code",
   "execution_count": 5,
   "id": "a68affb5",
   "metadata": {},
   "outputs": [
    {
     "data": {
      "text/plain": [
       "['Chicago', 'Houston', 'Phoenix']"
      ]
     },
     "execution_count": 5,
     "metadata": {},
     "output_type": "execute_result"
    }
   ],
   "source": [
    "top_cities[2:]"
   ]
  },
  {
   "cell_type": "code",
   "execution_count": 6,
   "id": "260a9aaa",
   "metadata": {},
   "outputs": [
    {
     "data": {
      "text/plain": [
       "['New York', 'Los Angeles', 'Chicago', 'Houston', 'Phoenix']"
      ]
     },
     "execution_count": 6,
     "metadata": {},
     "output_type": "execute_result"
    }
   ],
   "source": [
    "top_cities[:]"
   ]
  },
  {
   "cell_type": "code",
   "execution_count": 7,
   "id": "2f9988a5",
   "metadata": {},
   "outputs": [
    {
     "name": "stdout",
     "output_type": "stream",
     "text": [
      "['New York', 'Los Angeles', 'Chicago', 'Houston', 'Phoenix']\n"
     ]
    }
   ],
   "source": [
    "top_cities = ['New York', 'Los Angeles', 'Singapore', 'Chicago', 'Houston', 'Phoenix']\n",
    "del top_cities[2]\n",
    "print(top_cities)"
   ]
  },
  {
   "cell_type": "code",
   "execution_count": 8,
   "id": "9444e32d",
   "metadata": {},
   "outputs": [
    {
     "name": "stdout",
     "output_type": "stream",
     "text": [
      "['New York', 'Los Angeles', 'Singapore']\n"
     ]
    }
   ],
   "source": [
    "top_cities = ['New York', 'Los Angeles', 'Singapore', 'Chicago', 'Houston', 'Phoenix']\n",
    "del top_cities[3:]\n",
    "print(top_cities)"
   ]
  },
  {
   "cell_type": "code",
   "execution_count": 9,
   "id": "7894a5f0",
   "metadata": {},
   "outputs": [
    {
     "name": "stdout",
     "output_type": "stream",
     "text": [
      "[]\n"
     ]
    }
   ],
   "source": [
    "top_cities = ['New York', 'Los Angeles', 'Singapore', 'Chicago', 'Houston', 'Phoenix']\n",
    "del top_cities[:] # empty list items using slicing\n",
    "print(top_cities)"
   ]
  },
  {
   "cell_type": "code",
   "execution_count": 10,
   "id": "667c9081",
   "metadata": {},
   "outputs": [],
   "source": [
    "top_cities = ['New York', 'Los Angeles', 'Singapore', 'Chicago', 'Houston', 'Phoenix']\n",
    "del top_cities # delete complete list"
   ]
  },
  {
   "cell_type": "code",
   "execution_count": 11,
   "id": "d4ac1d25",
   "metadata": {},
   "outputs": [
    {
     "name": "stdout",
     "output_type": "stream",
     "text": [
      "[7, 9, 5, 6, 8, 4]\n"
     ]
    }
   ],
   "source": [
    "book_ratings = [7, 9, 5,6,8]\n",
    "book_ratings.append(4) # add item to list\n",
    "print(book_ratings)"
   ]
  },
  {
   "cell_type": "code",
   "execution_count": 12,
   "id": "02f733ea",
   "metadata": {},
   "outputs": [
    {
     "name": "stdout",
     "output_type": "stream",
     "text": [
      "[7, 10, 9, 5, 6, 8]\n"
     ]
    }
   ],
   "source": [
    "book_ratings = [7, 9, 5,6,8]\n",
    "book_ratings.insert(1, 10) # add item to list at index\n",
    "print(book_ratings)"
   ]
  },
  {
   "cell_type": "code",
   "execution_count": 13,
   "id": "61fbde21",
   "metadata": {},
   "outputs": [
    {
     "name": "stdout",
     "output_type": "stream",
     "text": [
      "Current city: New York\n",
      "Current city: Los Angeles\n",
      "Current city: Chicago\n",
      "Current city: Houston\n",
      "Current city: Phoenix\n"
     ]
    }
   ],
   "source": [
    "top_cities = ['New York', 'Los Angeles', 'Chicago', 'Houston', 'Phoenix']\n",
    "for city in top_cities:\n",
    "    print('Current city:', city)"
   ]
  },
  {
   "cell_type": "code",
   "execution_count": 14,
   "id": "7f31e57b",
   "metadata": {},
   "outputs": [
    {
     "name": "stdout",
     "output_type": "stream",
     "text": [
      "Current Index 0 Current city: New York\n",
      "Current Index 1 Current city: Los Angeles\n",
      "Current Index 2 Current city: Chicago\n",
      "Current Index 3 Current city: Houston\n",
      "Current Index 4 Current city: Phoenix\n"
     ]
    }
   ],
   "source": [
    "top_cities = ['New York', 'Los Angeles', 'Chicago', 'Houston', 'Phoenix']\n",
    "for city_index in range(len(top_cities)):\n",
    "    print('Current Index', city_index, 'Current city:', top_cities[city_index])"
   ]
  },
  {
   "cell_type": "code",
   "execution_count": 24,
   "id": "ac807780",
   "metadata": {},
   "outputs": [
    {
     "name": "stdout",
     "output_type": "stream",
     "text": [
      "Numbers of months with low spendings: 1.0, normal spendings: 5.0, high spendings: 6.0.\n"
     ]
    }
   ],
   "source": [
    "spendings = [1346.0, 987.50, 1734.40, 2567.0, 3271.45, 2500.0, 2130.0, 2510.30, 2987.34, 3120.50, 4069.78, 1000.0]\n",
    "\n",
    "low_spendings = 0.0\n",
    "normal_spendings = 0.0\n",
    "high_spendings = 0.0\n",
    "\n",
    "for item in spendings:\n",
    "    if item < 1000.0:\n",
    "        low_spendings += 1\n",
    "    elif item >= 1000.0 and item <= 2500.0:\n",
    "        normal_spendings += 1\n",
    "    else:\n",
    "        high_spendings += 1\n",
    "print('Numbers of months with low spendings: ' + str(low_spendings) + ', normal spendings: ' + str(normal_spendings) + ', high spendings: ' + str(high_spendings) + '.')"
   ]
  },
  {
   "cell_type": "code",
   "execution_count": 25,
   "id": "ab148205",
   "metadata": {},
   "outputs": [
    {
     "name": "stdout",
     "output_type": "stream",
     "text": [
      "['Phoenix', 'Los Angeles', 'Chicago', 'Houston', 'New York']\n"
     ]
    }
   ],
   "source": [
    "# swapping element in list\n",
    "\n",
    "top_cities = ['New York', 'Los Angeles', 'Chicago', 'Houston', 'Phoenix']\n",
    "top_cities[4], top_cities[0] = top_cities[0], top_cities[4]\n",
    "print(top_cities)"
   ]
  },
  {
   "cell_type": "code",
   "execution_count": 26,
   "id": "59e5f8dd",
   "metadata": {},
   "outputs": [
    {
     "name": "stdout",
     "output_type": "stream",
     "text": [
      "['Chicago', 'Houston', 'Los Angeles', 'New York', 'Phoenix']\n"
     ]
    }
   ],
   "source": [
    "top_cities = ['New York', 'Los Angeles', 'Chicago', 'Houston', 'Phoenix']\n",
    "top_cities.sort() # changes the list\n",
    "print(top_cities)"
   ]
  },
  {
   "cell_type": "code",
   "execution_count": 27,
   "id": "d72560e1",
   "metadata": {},
   "outputs": [
    {
     "name": "stdout",
     "output_type": "stream",
     "text": [
      "['Phoenix', 'New York', 'Los Angeles', 'Houston', 'Chicago']\n"
     ]
    }
   ],
   "source": [
    "top_cities = ['New York', 'Los Angeles', 'Chicago', 'Houston', 'Phoenix']\n",
    "top_cities.sort(reverse=True) # changes the list\n",
    "print(top_cities)"
   ]
  },
  {
   "cell_type": "code",
   "execution_count": 28,
   "id": "7526a4da",
   "metadata": {},
   "outputs": [
    {
     "name": "stdout",
     "output_type": "stream",
     "text": [
      "['Chicago', 'Houston', 'Los Angeles', 'New York', 'Phoenix']\n",
      "['New York', 'Los Angeles', 'Chicago', 'Houston', 'Phoenix']\n"
     ]
    }
   ],
   "source": [
    "top_cities = ['New York', 'Los Angeles', 'Chicago', 'Houston', 'Phoenix']\n",
    "print(sorted(top_cities)) # do not change the list\n",
    "print(top_cities)"
   ]
  },
  {
   "cell_type": "code",
   "execution_count": 29,
   "id": "6a9fa3de",
   "metadata": {},
   "outputs": [
    {
     "name": "stdout",
     "output_type": "stream",
     "text": [
      "Which city you belong to? india\n",
      "Oops, you are not in one of top cities\n"
     ]
    }
   ],
   "source": [
    "top_cities = ['New York', 'Los Angeles', 'Chicago', 'Houston', 'Phoenix']\n",
    "city = input('Which city you belong to? ')\n",
    "# item the list\n",
    "if city in top_cities:\n",
    "    print('Wonderful!, you are in top city')\n",
    "else:\n",
    "    print('Oops, you are not in one of top cities')"
   ]
  },
  {
   "cell_type": "code",
   "execution_count": 31,
   "id": "09b94913",
   "metadata": {},
   "outputs": [
    {
     "name": "stdout",
     "output_type": "stream",
     "text": [
      "Original: [1, 2, 3] \n",
      "New: [-5, 2, 3]\n"
     ]
    }
   ],
   "source": [
    "# copy list\n",
    "list_original = [1, 2, 3]\n",
    "list_new = list_original[:] # use slice to copy\n",
    "list_new[0] = -5\n",
    "print('Original:', list_original, '\\nNew:', list_new)"
   ]
  },
  {
   "cell_type": "code",
   "execution_count": 32,
   "id": "cb87c19d",
   "metadata": {},
   "outputs": [
    {
     "name": "stdout",
     "output_type": "stream",
     "text": [
      "[1, 2, 3, 4, 5, 6, 7, 8, 9, 10, 11, 12, 13, 14, 15, 16, 17, 18, 19, 20, 21, 22, 23, 24, 25, 26, 27, 28, 29, 30, 31, 32, 33, 34, 35, 36, 37, 38, 39, 40, 41, 42, 43, 44, 45, 46, 47, 48, 49, 50, 51, 52, 53, 54, 55, 56, 57, 58, 59, 60, 61, 62, 63, 64, 65, 66, 67, 68, 69, 70, 71, 72, 73, 74, 75, 76, 77, 78, 79, 80, 81, 82, 83, 84, 85, 86, 87, 88, 89, 90, 91, 92, 93, 94, 95, 96, 97, 98, 99]\n"
     ]
    }
   ],
   "source": [
    "# comprehensions\n",
    "numbers = [i for i in range(1, 100)]\n",
    "print(numbers)"
   ]
  },
  {
   "cell_type": "code",
   "execution_count": 34,
   "id": "bc3d3389",
   "metadata": {},
   "outputs": [
    {
     "name": "stdout",
     "output_type": "stream",
     "text": [
      "[1, 2, 4, 5, 7, 8, 10, 11, 13, 14, 16, 17, 19, 20, 22, 23, 25, 26, 28, 29, 31, 32, 34, 35, 37, 38, 40, 41, 43, 44, 46, 47, 49, 50, 52, 53, 55, 56, 58, 59, 61, 62, 64, 65, 67, 68, 70, 71, 73, 74, 76, 77, 79, 80, 82, 83, 85, 86, 88, 89, 91, 92, 94, 95, 97, 98]\n"
     ]
    }
   ],
   "source": [
    "numbers = [i for i in range(1, 100) if i % 3 != 0]\n",
    "print(numbers)"
   ]
  },
  {
   "cell_type": "code",
   "execution_count": 35,
   "id": "ba0e9a3d",
   "metadata": {},
   "outputs": [
    {
     "name": "stdout",
     "output_type": "stream",
     "text": [
      "[[1, 2, 3, 4, 5], [1, 2, 3, 4, 5], [1, 2, 3, 4, 5], [1, 2, 3, 4, 5]]\n"
     ]
    }
   ],
   "source": [
    "# nested list\n",
    "table = [[i for i in range(1, 6)] for j in range(4)]\n",
    "print(table)"
   ]
  },
  {
   "cell_type": "code",
   "execution_count": 36,
   "id": "491cb44b",
   "metadata": {},
   "outputs": [
    {
     "name": "stdout",
     "output_type": "stream",
     "text": [
      "[0, 1, 0, 1, 0, 1, 0, 1, 0, 1, 0, 1, 0, 1, 0, 1, 0, 1, 0, 1]\n"
     ]
    }
   ],
   "source": [
    "list_numbers = [0, 1] * 10\n",
    "print(list_numbers)"
   ]
  },
  {
   "cell_type": "code",
   "execution_count": null,
   "id": "e0aa720d",
   "metadata": {},
   "outputs": [],
   "source": [
    "# empty tuple\n",
    "# list are mutable but tuple are immutable\n",
    "# tuple are used when different data types are grouped in a structure\n",
    "empty_tuple = ()"
   ]
  },
  {
   "cell_type": "code",
   "execution_count": 37,
   "id": "5890179c",
   "metadata": {},
   "outputs": [
    {
     "name": "stdout",
     "output_type": "stream",
     "text": [
      "(1, 2, 3)\n"
     ]
    }
   ],
   "source": [
    "one_el_tuple_a = (1,)\n",
    "one_el_tuple_b = 1,\n",
    "three_el_tuple = 1, 2, 3\n",
    "print(three_el_tuple)"
   ]
  },
  {
   "cell_type": "code",
   "execution_count": 65,
   "id": "8ff9b2d3",
   "metadata": {},
   "outputs": [
    {
     "name": "stdout",
     "output_type": "stream",
     "text": [
      "3\n"
     ]
    }
   ],
   "source": [
    "# tuple operations\n",
    "\n",
    "three_el_tuple = 1, 2, 3\n",
    "print(len(three_el_tuple))"
   ]
  },
  {
   "cell_type": "code",
   "execution_count": 41,
   "id": "13bf7228",
   "metadata": {},
   "outputs": [],
   "source": [
    "city_1 = ('London', 'UK', 8.98)\n",
    "city_2 = ('Canberra', 'Australia', 0.4)\n",
    "city_3 = ('Algiers', 'Algeria', 3.9)\n",
    "\n",
    "# tuples in list\n",
    "capitals = [('London', 'UK', 8.98), ('Canberra', 'Australia', 0.4), ('Algiers', 'Algeria', 3.9)]\n",
    "# list in tuples\n",
    "user_data = ('John', 'American', 1964, [77.0, 78.2, 77.5])"
   ]
  },
  {
   "cell_type": "code",
   "execution_count": 42,
   "id": "06732c3a",
   "metadata": {},
   "outputs": [
    {
     "name": "stdout",
     "output_type": "stream",
     "text": [
      "5 connections lead to Rome with an average flight time of 161.0 minutes\n"
     ]
    }
   ],
   "source": [
    "connections = [\n",
    "    ('Amsterdam', 'Dublin', 100),\n",
    "    ('Amsterdam', 'Rome', 140),\n",
    "    ('Rome', 'Warsaw', 130),\n",
    "    ('Minsk', 'Prague', 95),\n",
    "    ('Stockholm', 'Rome', 190),\n",
    "    ('Copenhagen', 'Paris', 120),\n",
    "    ('Madrid', 'Rome', 135),\n",
    "    ('Lisbon', 'Rome', 170),\n",
    "    ('Dublin', 'Rome', 170),\n",
    "    ]\n",
    "\n",
    "flight_times = []\n",
    "for connection in connections:\n",
    "    if connection[1] == 'Rome':\n",
    "        flight_times.append(connection[2])\n",
    "        \n",
    "sum_flight_times = 0\n",
    "for time in flight_times:\n",
    "    sum_flight_times += time\n",
    "print(len(flight_times), 'connections lead to Rome with an average flight time of', sum_flight_times/len(flight_times) , 'minutes')"
   ]
  },
  {
   "cell_type": "code",
   "execution_count": 44,
   "id": "19e3d1da",
   "metadata": {},
   "outputs": [
    {
     "name": "stdout",
     "output_type": "stream",
     "text": [
      "john@gmail.com\n"
     ]
    }
   ],
   "source": [
    "# dictionaries\n",
    "\n",
    "emails = {\n",
    "    'Anne Stahl': 'abcd@gmail.com',\n",
    "    'John Doe': 'john@gmail.com'\n",
    "}\n",
    "print(emails['John Doe'])"
   ]
  },
  {
   "cell_type": "code",
   "execution_count": 45,
   "id": "f447ef64",
   "metadata": {},
   "outputs": [
    {
     "name": "stdout",
     "output_type": "stream",
     "text": [
      "{'John': 'A-', 'Anne': 'B'}\n"
     ]
    }
   ],
   "source": [
    "grades = {}\n",
    "\n",
    "grades['John'] = 'A-'\n",
    "grades['Anne'] = 'B'\n",
    "print(grades)"
   ]
  },
  {
   "cell_type": "code",
   "execution_count": 48,
   "id": "1a4848ce",
   "metadata": {},
   "outputs": [
    {
     "name": "stdout",
     "output_type": "stream",
     "text": [
      "{'John': 'A', 'Anne': 'B'}\n"
     ]
    }
   ],
   "source": [
    "grades.update({'John': 'A'})\n",
    "print(grades)"
   ]
  },
  {
   "cell_type": "code",
   "execution_count": 54,
   "id": "7d285a22",
   "metadata": {},
   "outputs": [
    {
     "name": "stdout",
     "output_type": "stream",
     "text": [
      "enter name: John\n",
      "John got: A-\n"
     ]
    }
   ],
   "source": [
    "user_input = input('enter name: ')\n",
    "if user_input in grades:\n",
    "    print('John got:', grades[user_input])"
   ]
  },
  {
   "cell_type": "code",
   "execution_count": 50,
   "id": "0c552900",
   "metadata": {},
   "outputs": [
    {
     "name": "stdout",
     "output_type": "stream",
     "text": [
      "{'Anne': 'B'}\n"
     ]
    }
   ],
   "source": [
    "del grades['John']\n",
    "print(grades)"
   ]
  },
  {
   "cell_type": "code",
   "execution_count": 51,
   "id": "4cdcff59",
   "metadata": {},
   "outputs": [
    {
     "name": "stdout",
     "output_type": "stream",
     "text": [
      "John\n",
      "Anne\n",
      "John\n",
      "Anne\n",
      "A-\n",
      "B\n",
      "John got A-\n",
      "Anne got B\n"
     ]
    }
   ],
   "source": [
    "grades = {}\n",
    "\n",
    "grades['John'] = 'A-'\n",
    "grades['Anne'] = 'B'\n",
    "\n",
    "for el in grades:\n",
    "    print(el)\n",
    "    \n",
    "for el in grades.keys():\n",
    "    print(el)\n",
    "    \n",
    "for el in grades.values():\n",
    "    print(el)\n",
    "    \n",
    "for person,grade in grades.items():\n",
    "    print(person, 'got', grade)    "
   ]
  },
  {
   "cell_type": "code",
   "execution_count": 58,
   "id": "73cec911",
   "metadata": {},
   "outputs": [
    {
     "name": "stdout",
     "output_type": "stream",
     "text": [
      "Enter a word in English or EXIT: dog\n",
      "No match!\n",
      "Enter a word in English or EXIT: face\n",
      "Translation: Gesicht\n",
      "Enter a word in English or EXIT: EXIT\n",
      "Bye!\n"
     ]
    }
   ],
   "source": [
    "sample_dict = {\n",
    "    \"mouth\": \"Mund\",\n",
    "    \"finger\": \"Finger\",\n",
    "    \"leg\": \"Bein\",\n",
    "    \"hand\": \"Hand\",\n",
    "    \"face\": \"Gesicht\",\n",
    "    \"nose\": \"Nase\"\n",
    "}\n",
    "while True:\n",
    "    word = input('Enter a word in English or EXIT: ')\n",
    "\n",
    "    if word == 'EXIT':\n",
    "        print('Bye!')\n",
    "        break\n",
    "    else:\n",
    "        if word in sample_dict:\n",
    "            print('Translation:', sample_dict[word])\n",
    "        else:\n",
    "            print('No match!')"
   ]
  },
  {
   "cell_type": "code",
   "execution_count": 59,
   "id": "eacc8185",
   "metadata": {},
   "outputs": [
    {
     "name": "stdout",
     "output_type": "stream",
     "text": [
      "[2]\n",
      "[]\n"
     ]
    }
   ],
   "source": [
    "list_a = [1, 2, 3]\n",
    "list_b = list_a[-2:-1]\n",
    "list_c = list_a[-1:-2]\n",
    "print(list_b)\n",
    "print(list_c)"
   ]
  },
  {
   "cell_type": "code",
   "execution_count": 60,
   "id": "e2265b91",
   "metadata": {},
   "outputs": [
    {
     "name": "stdout",
     "output_type": "stream",
     "text": [
      "25.0\n"
     ]
    }
   ],
   "source": [
    "values = [[3 - x for x in range(2)] for y in range(5)]\n",
    " \n",
    "sum = 0.0\n",
    "for row in values:\n",
    "  for cell in row:\n",
    "    sum += cell\n",
    " \n",
    "print(sum)"
   ]
  },
  {
   "cell_type": "code",
   "execution_count": 61,
   "id": "712f9243",
   "metadata": {},
   "outputs": [
    {
     "name": "stdout",
     "output_type": "stream",
     "text": [
      "[]\n"
     ]
    }
   ],
   "source": [
    "ratings = [3.0, 4.5, 6.3, 4.5, 6.7]\n",
    "print(ratings[-2:-4])"
   ]
  },
  {
   "cell_type": "code",
   "execution_count": 62,
   "id": "a9eb106c",
   "metadata": {},
   "outputs": [
    {
     "name": "stdout",
     "output_type": "stream",
     "text": [
      "4\n"
     ]
    }
   ],
   "source": [
    "integers = [1, 4, -2]\n",
    "print(integers[integers[-1]])"
   ]
  },
  {
   "cell_type": "code",
   "execution_count": 63,
   "id": "f2790a98",
   "metadata": {},
   "outputs": [
    {
     "name": "stdout",
     "output_type": "stream",
     "text": [
      "3\n"
     ]
    }
   ],
   "source": [
    "vals = (1, 2, 3, 4)\n",
    "vals = vals[1:-1]\n",
    "vals = vals[1]\n",
    "print(vals)"
   ]
  },
  {
   "cell_type": "code",
   "execution_count": 66,
   "id": "7bfedb8b",
   "metadata": {},
   "outputs": [
    {
     "ename": "KeyError",
     "evalue": "'pies'",
     "output_type": "error",
     "traceback": [
      "\u001b[0;31m---------------------------------------------------------------------------\u001b[0m",
      "\u001b[0;31mKeyError\u001b[0m                                  Traceback (most recent call last)",
      "\u001b[0;32m/var/folders/tj/c426c28x2tj_qszsft0l5r9c0000gn/T/ipykernel_89400/347999417.py\u001b[0m in \u001b[0;36m<module>\u001b[0;34m\u001b[0m\n\u001b[1;32m      1\u001b[0m \u001b[0mdict\u001b[0m \u001b[0;34m=\u001b[0m \u001b[0;34m{\u001b[0m\u001b[0;34m'en'\u001b[0m\u001b[0;34m:\u001b[0m \u001b[0;34m'dog'\u001b[0m\u001b[0;34m,\u001b[0m \u001b[0;34m'pl'\u001b[0m\u001b[0;34m:\u001b[0m \u001b[0;34m'pies'\u001b[0m\u001b[0;34m,\u001b[0m \u001b[0;34m'es'\u001b[0m\u001b[0;34m:\u001b[0m \u001b[0;34m'perro'\u001b[0m\u001b[0;34m,\u001b[0m \u001b[0;34m'jp'\u001b[0m\u001b[0;34m:\u001b[0m \u001b[0;34m'inu'\u001b[0m\u001b[0;34m}\u001b[0m\u001b[0;34m\u001b[0m\u001b[0;34m\u001b[0m\u001b[0m\n\u001b[0;32m----> 2\u001b[0;31m \u001b[0mprint\u001b[0m\u001b[0;34m(\u001b[0m\u001b[0mdict\u001b[0m\u001b[0;34m[\u001b[0m\u001b[0;34m'pies'\u001b[0m\u001b[0;34m]\u001b[0m\u001b[0;34m)\u001b[0m\u001b[0;34m\u001b[0m\u001b[0;34m\u001b[0m\u001b[0m\n\u001b[0m",
      "\u001b[0;31mKeyError\u001b[0m: 'pies'"
     ]
    }
   ],
   "source": [
    "dict = {'en': 'dog', 'pl': 'pies', 'es': 'perro', 'jp': 'inu'}\n",
    "print(dict['pies'])"
   ]
  },
  {
   "cell_type": "code",
   "execution_count": null,
   "id": "c2602f94",
   "metadata": {},
   "outputs": [],
   "source": []
  }
 ],
 "metadata": {
  "kernelspec": {
   "display_name": "Python 3 (ipykernel)",
   "language": "python",
   "name": "python3"
  },
  "language_info": {
   "codemirror_mode": {
    "name": "ipython",
    "version": 3
   },
   "file_extension": ".py",
   "mimetype": "text/x-python",
   "name": "python",
   "nbconvert_exporter": "python",
   "pygments_lexer": "ipython3",
   "version": "3.9.13"
  }
 },
 "nbformat": 4,
 "nbformat_minor": 5
}
