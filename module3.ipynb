{
 "cells": [
  {
   "cell_type": "code",
   "execution_count": 5,
   "id": "55e011a6",
   "metadata": {},
   "outputs": [
    {
     "name": "stdout",
     "output_type": "stream",
     "text": [
      "What is your age? 30\n",
      "You are 30 years old\n",
      "You will need to meet additional conditions to qualify\n"
     ]
    }
   ],
   "source": [
    "user_age = int(input('What is your age? '))\n",
    "if user_age > 30:\n",
    "    print('You are over 30 years old')\n",
    "    print('Sorry, you do not qualify')\n",
    "elif user_age == 30:\n",
    "    print('You are 30 years old')\n",
    "    print('You will need to meet additional conditions to qualify')\n",
    "else:\n",
    "    print('You are 30 years old or younger')\n",
    "    print('Congratulations, you qualify!')"
   ]
  },
  {
   "cell_type": "code",
   "execution_count": null,
   "id": "b495cdea",
   "metadata": {},
   "outputs": [],
   "source": [
    "# available logical operators\n",
    "#\n",
    "# < less than\n",
    "# > greater than\n",
    "# <= less than or equal\n",
    "# >= greater than or equal\n",
    "# == equals\n",
    "# != not equals"
   ]
  },
  {
   "cell_type": "code",
   "execution_count": 6,
   "id": "6680c8cf",
   "metadata": {},
   "outputs": [
    {
     "name": "stdout",
     "output_type": "stream",
     "text": [
      "Do you know the secret password? dsf\n",
      "not correct\n"
     ]
    }
   ],
   "source": [
    "password = input('Do you know the secret password? ')\n",
    "if password != '--secret':\n",
    "    print('not correct')\n",
    "else:\n",
    "    print('correct password')"
   ]
  },
  {
   "cell_type": "code",
   "execution_count": 7,
   "id": "8410c134",
   "metadata": {},
   "outputs": [
    {
     "name": "stdout",
     "output_type": "stream",
     "text": [
      "What is your age? 26\n",
      "What is your country? india\n",
      "Sorry, you do not qualify\n"
     ]
    }
   ],
   "source": [
    "# joining multiple conditions\n",
    "\n",
    "user_age = int(input('What is your age? '))\n",
    "user_country = input('What is your country? ')\n",
    "\n",
    "if user_age < 25 and user_country == 'Germany':\n",
    "    print('You can apply for a German student exhange programe')\n",
    "else:\n",
    "    print('Sorry, you do not qualify')"
   ]
  },
  {
   "cell_type": "code",
   "execution_count": 8,
   "id": "dcffabbe",
   "metadata": {},
   "outputs": [
    {
     "name": "stdout",
     "output_type": "stream",
     "text": [
      "What is your country? india\n",
      "Sorry, you do not qualify\n"
     ]
    }
   ],
   "source": [
    "user_country = input('What is your country? ')\n",
    "\n",
    "if user_country == 'Sweden' or user_country == 'Denmark' or user_country == 'Norway':\n",
    "    print('You can apply for a Scandinavian student exhange programe')\n",
    "else:\n",
    "    print('Sorry, you do not qualify')"
   ]
  },
  {
   "cell_type": "code",
   "execution_count": 9,
   "id": "d0c77491",
   "metadata": {},
   "outputs": [
    {
     "name": "stdout",
     "output_type": "stream",
     "text": [
      "Where do you come from? india\n",
      "You are not from Germany\n"
     ]
    }
   ],
   "source": [
    "user_country = input('Where do you come from? ')\n",
    "\n",
    "if not user_country == 'Germany':\n",
    "    print('You are not from Germany')\n",
    "else:\n",
    "    print('You are from Germany')"
   ]
  },
  {
   "cell_type": "code",
   "execution_count": 10,
   "id": "dd159b51",
   "metadata": {},
   "outputs": [
    {
     "name": "stdout",
     "output_type": "stream",
     "text": [
      "What is your age? 23\n",
      "What is your country? india\n",
      "You qualify\n"
     ]
    }
   ],
   "source": [
    "user_age = int(input('What is your age? '))\n",
    "user_country = input('What is your country? ')\n",
    "\n",
    "if not user_country == 'Germany' and user_age < 25 or \\\n",
    "   user_country == 'Germany' and user_age < 23:\n",
    "    print('You qualify')\n",
    "else:\n",
    "    print('Sorry, you don\\'t qualify')"
   ]
  },
  {
   "cell_type": "code",
   "execution_count": null,
   "id": "94a500d0",
   "metadata": {},
   "outputs": [],
   "source": [
    "# priority\n",
    "\n",
    "# 1. not\n",
    "# 2. and\n",
    "# 3. or"
   ]
  },
  {
   "cell_type": "code",
   "execution_count": 11,
   "id": "e7e05ce3",
   "metadata": {},
   "outputs": [
    {
     "name": "stdout",
     "output_type": "stream",
     "text": [
      "Do you like travelling? y/n: y\n",
      "And do you like Asia? y/n: y\n",
      "Excellent! you can win a ticket to Thailand!\n"
     ]
    }
   ],
   "source": [
    "answer_a = input('Do you like travelling? y/n: ')\n",
    "if answer_a == 'y':\n",
    "    answer_b = input('And do you like Asia? y/n: ')\n",
    "    if answer_b == 'y':\n",
    "        print('Excellent! you can win a ticket to Thailand!')\n",
    "    else:\n",
    "        print('Sorry to hear that!')\n",
    "else:\n",
    "    print('Sorry to hear that!')"
   ]
  },
  {
   "cell_type": "code",
   "execution_count": 16,
   "id": "12753df6",
   "metadata": {},
   "outputs": [
    {
     "name": "stdout",
     "output_type": "stream",
     "text": [
      "How many days ago have you purchased the item? 11\n",
      "Has the item broken down on its own [y/n]? n\n",
      "You cannot get a refund\n"
     ]
    }
   ],
   "source": [
    "user_answer_purchase_day = int(input('How many days ago have you purchased the item? '))\n",
    "user_answer_item_broken = input('Has the item broken down on its own [y/n]? ')\n",
    "\n",
    "if user_answer_purchase_day < 10:\n",
    "    user_answer_item_used = input('Have you used the item at all [y/n]? ')\n",
    "    if user_answer_item_used == 'n':\n",
    "        print('You can get a refund')\n",
    "    else:\n",
    "        print('You cannot get a refund')\n",
    "elif user_answer_item_broken == 'y':\n",
    "    print('You can get a refund')\n",
    "else:\n",
    "    print('You cannot get a refund')"
   ]
  },
  {
   "cell_type": "code",
   "execution_count": null,
   "id": "feafbb5a",
   "metadata": {},
   "outputs": [],
   "source": [
    "# loops, while and for"
   ]
  },
  {
   "cell_type": "code",
   "execution_count": 18,
   "id": "7b58d66e",
   "metadata": {},
   "outputs": [
    {
     "name": "stdout",
     "output_type": "stream",
     "text": [
      "1\n",
      "2\n",
      "3\n",
      "4\n",
      "5\n",
      "6\n",
      "7\n",
      "8\n",
      "9\n",
      "10\n",
      "Finished!\n"
     ]
    }
   ],
   "source": [
    "counter = 1\n",
    "while counter < 11:\n",
    "    print(counter)\n",
    "    counter += 1\n",
    "print('Finished!')"
   ]
  },
  {
   "cell_type": "code",
   "execution_count": 19,
   "id": "e1ca434d",
   "metadata": {},
   "outputs": [
    {
     "name": "stdout",
     "output_type": "stream",
     "text": [
      "\n",
      "==========================\n",
      "=== SECRET NUMBER GAME ===\n",
      "==========================\n",
      "\n",
      "Try to guess the secret number from 0 to 20: 2\n",
      "Wrong!\n",
      "Try to guess the secret number from 0 to 20: 3\n",
      "Wrong!\n",
      "Try to guess the secret number from 0 to 20: 14\n",
      "Perfect! You have guessed the secret number.\n"
     ]
    }
   ],
   "source": [
    "secret_number = 14\n",
    "print('''\n",
    "==========================\n",
    "=== SECRET NUMBER GAME ===\n",
    "==========================\n",
    "''')\n",
    "user_input = int(input('Try to guess the secret number from 0 to 20: '))\n",
    "while user_input != secret_number:\n",
    "    print('Wrong!')\n",
    "    user_input = int(input('Try to guess the secret number from 0 to 20: '))\n",
    "print('Perfect! You have guessed the secret number.')"
   ]
  },
  {
   "cell_type": "code",
   "execution_count": 20,
   "id": "06d43a73",
   "metadata": {},
   "outputs": [
    {
     "name": "stdout",
     "output_type": "stream",
     "text": [
      "Current letter: h\n",
      "Current letter: e\n",
      "Current letter: l\n",
      "Current letter: l\n",
      "Current letter: o\n",
      "Current letter: !\n"
     ]
    }
   ],
   "source": [
    "for letter in 'hello!':\n",
    "    print('Current letter:', letter)"
   ]
  },
  {
   "cell_type": "code",
   "execution_count": 21,
   "id": "02206c50",
   "metadata": {},
   "outputs": [
    {
     "name": "stdout",
     "output_type": "stream",
     "text": [
      "1\n",
      "2\n",
      "3\n",
      "4\n",
      "5\n",
      "6\n",
      "7\n",
      "8\n",
      "9\n",
      "10\n",
      "Finished!\n"
     ]
    }
   ],
   "source": [
    "for counter in range(1, 11):\n",
    "    print(counter)\n",
    "print('Finished!')"
   ]
  },
  {
   "cell_type": "code",
   "execution_count": 22,
   "id": "9d965b68",
   "metadata": {},
   "outputs": [
    {
     "name": "stdout",
     "output_type": "stream",
     "text": [
      "Enter your name or EXIT to close the program: ashish\n",
      "Hello ashish\n",
      "Enter your name or EXIT to close the program: you\n",
      "Hello you\n",
      "Enter your name or EXIT to close the program: EXIT\n"
     ]
    }
   ],
   "source": [
    "while True:\n",
    "    name = input('Enter your name or EXIT to close the program: ')\n",
    "    if name == 'EXIT':\n",
    "        break\n",
    "    print('Hello', name)"
   ]
  },
  {
   "cell_type": "code",
   "execution_count": 23,
   "id": "5307e2fd",
   "metadata": {},
   "outputs": [
    {
     "name": "stdout",
     "output_type": "stream",
     "text": [
      "1\n",
      "2\n",
      "3\n",
      "4\n",
      "6\n",
      "7\n",
      "8\n",
      "9\n",
      "11\n",
      "12\n",
      "13\n",
      "14\n",
      "16\n",
      "17\n",
      "18\n",
      "19\n"
     ]
    }
   ],
   "source": [
    "for i in range(1, 21):\n",
    "    if i % 5 == 0:\n",
    "        continue\n",
    "    print(i)"
   ]
  },
  {
   "cell_type": "code",
   "execution_count": 24,
   "id": "f218684f",
   "metadata": {},
   "outputs": [],
   "source": [
    "for i in range(11):\n",
    "    pass"
   ]
  },
  {
   "cell_type": "code",
   "execution_count": null,
   "id": "9ffc7735",
   "metadata": {},
   "outputs": [],
   "source": [
    "# pass does nothing in python"
   ]
  },
  {
   "cell_type": "code",
   "execution_count": 25,
   "id": "d70dff12",
   "metadata": {},
   "outputs": [
    {
     "name": "stdout",
     "output_type": "stream",
     "text": [
      "1 x 1 = 1\n",
      "1 x 2 = 2\n",
      "1 x 3 = 3\n",
      "1 x 4 = 4\n",
      "1 x 5 = 5\n",
      "2 x 1 = 2\n",
      "2 x 2 = 4\n",
      "2 x 3 = 6\n",
      "2 x 4 = 8\n",
      "2 x 5 = 10\n",
      "3 x 1 = 3\n",
      "3 x 2 = 6\n",
      "3 x 3 = 9\n",
      "3 x 4 = 12\n",
      "3 x 5 = 15\n",
      "4 x 1 = 4\n",
      "4 x 2 = 8\n",
      "4 x 3 = 12\n",
      "4 x 4 = 16\n",
      "4 x 5 = 20\n",
      "5 x 1 = 5\n",
      "5 x 2 = 10\n",
      "5 x 3 = 15\n",
      "5 x 4 = 20\n",
      "5 x 5 = 25\n"
     ]
    }
   ],
   "source": [
    "for a in range(1, 6):\n",
    "    for b in range(1, 6):\n",
    "        print(a, 'x', b, '=', a * b)"
   ]
  },
  {
   "cell_type": "code",
   "execution_count": 26,
   "id": "32bfc910",
   "metadata": {},
   "outputs": [
    {
     "name": "stdout",
     "output_type": "stream",
     "text": [
      "When was Python 1.0 released? 2000\n",
      "It was earlier than that!\n",
      "When was Python 1.0 released? 1995\n",
      "It was earlier than that!\n",
      "When was Python 1.0 released? 1992\n",
      "It was later than that!\n",
      "When was Python 1.0 released? 1994\n"
     ]
    }
   ],
   "source": [
    "while True:\n",
    "    year = int(input('When was Python 1.0 released? '))\n",
    "    if year == 1994:\n",
    "        break\n",
    "    if year > 1994:\n",
    "        print('It was earlier than that!')\n",
    "    else:\n",
    "        print('It was later than that!')\n"
   ]
  },
  {
   "cell_type": "code",
   "execution_count": null,
   "id": "8581683f",
   "metadata": {},
   "outputs": [],
   "source": []
  }
 ],
 "metadata": {
  "kernelspec": {
   "display_name": "Python 3 (ipykernel)",
   "language": "python",
   "name": "python3"
  },
  "language_info": {
   "codemirror_mode": {
    "name": "ipython",
    "version": 3
   },
   "file_extension": ".py",
   "mimetype": "text/x-python",
   "name": "python",
   "nbconvert_exporter": "python",
   "pygments_lexer": "ipython3",
   "version": "3.9.13"
  }
 },
 "nbformat": 4,
 "nbformat_minor": 5
}
