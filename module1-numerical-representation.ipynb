{
 "cells": [
  {
   "cell_type": "code",
   "execution_count": null,
   "id": "5d5dacc4",
   "metadata": {},
   "outputs": [],
   "source": [
    "# underscore in numbers\n",
    "12000300\n",
    "12_000_300"
   ]
  },
  {
   "cell_type": "code",
   "execution_count": null,
   "id": "21a8399b",
   "metadata": {},
   "outputs": [],
   "source": [
    "# scientific notations \n",
    "# 3e4 = 3E4 = 3 * 10000 = 30000\n",
    "# 3e4 - 4 = 3E4 - 4 = 3 * 1/10000 = 0.0033"
   ]
  },
  {
   "cell_type": "code",
   "execution_count": 1,
   "id": "01c197d7",
   "metadata": {},
   "outputs": [
    {
     "name": "stdout",
     "output_type": "stream",
     "text": [
      "83\n"
     ]
    }
   ],
   "source": [
    "# Octal numbers (used rarely)\n",
    "# start with 0O or 0o\n",
    "print(0o123)"
   ]
  },
  {
   "cell_type": "code",
   "execution_count": 2,
   "id": "b303d646",
   "metadata": {},
   "outputs": [
    {
     "name": "stdout",
     "output_type": "stream",
     "text": [
      "291\n"
     ]
    }
   ],
   "source": [
    "# hexadecimal number\n",
    "# start with 0X or 0x\n",
    "print(0x123)"
   ]
  },
  {
   "cell_type": "code",
   "execution_count": null,
   "id": "21ead9dd",
   "metadata": {},
   "outputs": [],
   "source": []
  }
 ],
 "metadata": {
  "kernelspec": {
   "display_name": "Python 3 (ipykernel)",
   "language": "python",
   "name": "python3"
  },
  "language_info": {
   "codemirror_mode": {
    "name": "ipython",
    "version": 3
   },
   "file_extension": ".py",
   "mimetype": "text/x-python",
   "name": "python",
   "nbconvert_exporter": "python",
   "pygments_lexer": "ipython3",
   "version": "3.9.13"
  }
 },
 "nbformat": 4,
 "nbformat_minor": 5
}
